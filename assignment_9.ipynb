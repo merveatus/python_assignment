{
  "nbformat": 4,
  "nbformat_minor": 0,
  "metadata": {
    "colab": {
      "provenance": [],
      "collapsed_sections": []
    },
    "kernelspec": {
      "name": "python3",
      "display_name": "Python 3"
    },
    "language_info": {
      "name": "python"
    }
  },
  "cells": [
    {
      "cell_type": "code",
      "source": [
        "# Task : Let's say; you left a message in the past that prints a password you need. To see the password you wrote, you need to enter your name and the program should recognize you.\n",
        "# Write a program that \n",
        "\n",
        "# Takes the first name from the user and compares it to yours,\n",
        "# Then if the name the user entered is the same as yours, print out such as : \"Hello, Joseph! The password is : W@12\",\n",
        "# If the name the user entered is not the same as yours, print out such as : \"Hello, Amina! See you later.\""
      ],
      "metadata": {
        "id": "eJOa1nYRGdP8"
      },
      "execution_count": null,
      "outputs": []
    },
    {
      "cell_type": "code",
      "source": [
        "name = input(\"Enter your first name:\")\n",
        "name = name.title()\n",
        "if name == \"Joseph\" :\n",
        "    print(\"Hello, {}! The password is : W@12\".format(name))\n",
        "else :\n",
        "    print(\"Hello, {}! See you later.\".format(name))"
      ],
      "metadata": {
        "colab": {
          "base_uri": "https://localhost:8080/"
        },
        "id": "mH2tcUuKCtfE",
        "outputId": "9631d8a0-d42c-4e28-8285-ecee1d650948"
      },
      "execution_count": 1,
      "outputs": [
        {
          "output_type": "stream",
          "name": "stdout",
          "text": [
            "Enter your first name:Amina\n",
            "Hello, Amina! See you later.\n"
          ]
        }
      ]
    }
  ]
}