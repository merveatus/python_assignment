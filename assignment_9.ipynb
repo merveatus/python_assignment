{
 "cells": [
  {
   "cell_type": "code",
   "execution_count": 4,
   "id": "7f2ebddc",
   "metadata": {},
   "outputs": [
    {
     "name": "stdout",
     "output_type": "stream",
     "text": [
      "Give me a word :Clarusway\n",
      "C-l-a-r-u-s-w-a-y"
     ]
    }
   ],
   "source": [
    "word = input(\"Give me a word :\")\n",
    "counter = 0\n",
    "\n",
    "for i in word :\n",
    "    counter +=1\n",
    "    if counter < len(word) :          #C-l-a-r-u-s-w-a-y- boyle en sonda tire olmasini istemiyoruz.\n",
    "        i += \"-\"\n",
    "    print(i, end = \"\")                #En sona gelince Flase verecek ve counter duracak, alt satira gececek"
   ]
  },
  {
   "cell_type": "code",
   "execution_count": 3,
   "id": "9aadf84d",
   "metadata": {},
   "outputs": [
    {
     "data": {
      "text/plain": [
       "'c-'"
      ]
     },
     "execution_count": 3,
     "metadata": {},
     "output_type": "execute_result"
    }
   ],
   "source": [
    "\"c\" + \"-\""
   ]
  },
  {
   "cell_type": "code",
   "execution_count": null,
   "id": "0b7472a5",
   "metadata": {},
   "outputs": [],
   "source": [
    "i = i + \"-\""
   ]
  },
  {
   "cell_type": "code",
   "execution_count": null,
   "id": "4c8f8ef1",
   "metadata": {},
   "outputs": [],
   "source": []
  },
  {
   "cell_type": "code",
   "execution_count": null,
   "id": "3de02d1f",
   "metadata": {},
   "outputs": [],
   "source": []
  }
 ],
 "metadata": {
  "kernelspec": {
   "display_name": "Python 3 (ipykernel)",
   "language": "python",
   "name": "python3"
  },
  "language_info": {
   "codemirror_mode": {
    "name": "ipython",
    "version": 3
   },
   "file_extension": ".py",
   "mimetype": "text/x-python",
   "name": "python",
   "nbconvert_exporter": "python",
   "pygments_lexer": "ipython3",
   "version": "3.9.12"
  }
 },
 "nbformat": 4,
 "nbformat_minor": 5
}
