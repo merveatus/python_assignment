{
  "nbformat": 4,
  "nbformat_minor": 0,
  "metadata": {
    "colab": {
      "provenance": []
    },
    "kernelspec": {
      "name": "python3",
      "display_name": "Python 3"
    },
    "language_info": {
      "name": "python"
    }
  },
  "cells": [
    {
      "cell_type": "code",
      "execution_count": null,
      "metadata": {
        "id": "BnSDEvet9Y3U"
      },
      "outputs": [],
      "source": [
        "# Task : Write a program that takes a number from the user and prints the result to check if it is a prime number."
      ]
    },
    {
      "cell_type": "code",
      "source": [
        "a = int(input(\"Enter a number: \"))\n",
        "\n",
        "for i in range(2,a) :\n",
        "  if a % i != 0 :\n",
        "    continue\n",
        "    \n",
        "  else :\n",
        "    print(\"Its not a prime number.\")\n",
        "    break\n",
        "  \n",
        "else :\n",
        "  print(\"Its a prime number\")"
      ],
      "metadata": {
        "colab": {
          "base_uri": "https://localhost:8080/"
        },
        "id": "fdK_su7p9aYj",
        "outputId": "1b31b35b-7042-40a9-bc18-e502233cde03"
      },
      "execution_count": 3,
      "outputs": [
        {
          "output_type": "stream",
          "name": "stdout",
          "text": [
            "Enter a number: 19\n",
            "Its a prime number\n"
          ]
        }
      ]
    }
  ]
}