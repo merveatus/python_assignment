{
  "nbformat": 4,
  "nbformat_minor": 0,
  "metadata": {
    "colab": {
      "provenance": [],
      "collapsed_sections": []
    },
    "kernelspec": {
      "name": "python3",
      "display_name": "Python 3"
    },
    "language_info": {
      "name": "python"
    }
  },
  "cells": [
    {
      "cell_type": "code",
      "source": [
        "# ask : Estimating the risk of death from coronavirus. Write a program that;\n",
        "\n",
        "# Takes \"Yes\" or \"No\" from the user as an answer to the following questions :\n",
        "\n",
        "# Are you a cigarette addict older than 75 years old? Variable → age\n",
        "\n",
        "# Do you have a severe chronic disease? Variable → chronic\n",
        "\n",
        "# Is your immune system too weak? Variable → immune\n",
        "\n",
        "# Set a logical algorithm using boolean logic operators (and/or) and use if-statements with the given variables in order to print out us a message : \"You are in risky group\"(if True ) or \"You are not in risky group\" (if False).\n",
        "# age =  # can be assigned only True/False\n",
        "# chronic =  # can be assigned only True/False\n",
        "# immune =  # can be assigned only True/False\n",
        "# risk = ?"
      ],
      "metadata": {
        "id": "C9pXVMYfMDij"
      },
      "execution_count": null,
      "outputs": []
    },
    {
      "cell_type": "code",
      "execution_count": 1,
      "metadata": {
        "colab": {
          "base_uri": "https://localhost:8080/"
        },
        "id": "5ezDT2d7L1RV",
        "outputId": "ce63e5e6-1935-4bcc-9860-63e4a249c6f6"
      },
      "outputs": [
        {
          "output_type": "stream",
          "name": "stdout",
          "text": [
            "Are you a cigarette addict older than 75 (yes/no): no\n",
            "Do you have a severe chronic disease? (yes/no): yes\n",
            "Is your immune system weak? (yes/no): no\n",
            "You are not in risky group.\n"
          ]
        }
      ],
      "source": [
        "age= input(\"Are you a cigarette addict older than 75 (yes/no): \")\n",
        "chronic= input(\"Do you have a severe chronic disease? (yes/no): \")\n",
        "immune= input(\"Is your immune system weak? (yes/no): \")\n",
        "risk = age or chronic or immune\n",
        "if  risk == \"yes\":\n",
        "  print(\"You are in risky group.\")\n",
        "else :\n",
        "  print(\"You are not in risky group.\")"
      ]
    },
    {
      "cell_type": "code",
      "source": [],
      "metadata": {
        "id": "-KC-gS9CMe7o"
      },
      "execution_count": null,
      "outputs": []
    }
  ]
}