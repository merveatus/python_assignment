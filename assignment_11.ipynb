{
  "nbformat": 4,
  "nbformat_minor": 0,
  "metadata": {
    "colab": {
      "provenance": [],
      "collapsed_sections": []
    },
    "kernelspec": {
      "name": "python3",
      "display_name": "Python 3"
    },
    "language_info": {
      "name": "python"
    }
  },
  "cells": [
    {
      "cell_type": "code",
      "execution_count": null,
      "metadata": {
        "id": "-OZdy1kmIeNb"
      },
      "outputs": [],
      "source": [
        "# Find out if a given year is a \"leap\" year.\n",
        "\n",
        "# In the Gregorian calendar, three criteria must be taken into account to identify leap years:\n",
        "# The year must be evenly divisible by 4;\n",
        "# If the year can also be evenly divided by 100, it is not a leap year; unless...\n",
        "# The year is also evenly divisible by 400. Then it is a leap year.\n",
        "# According to these rules, the years 2000 and 2400 are leap years, while 1800, 1900, 2100, 2200, 2300, and 2500 are not the leap years.\n",
        "# Write a Python program that prints such as \"2020 is a leap year\" if the given year by the user is a leap year, prints such as \"2019 is not a leap year\" otherwise."
      ]
    },
    {
      "cell_type": "code",
      "source": [
        "year = int(input(\"Enter a year: \"))\n",
        "if (year % 4 == 0) and (year % 100 != 0 or year % 400 == 0) :\n",
        "  print(\"{} is a leap year.\".format(year))\n",
        "    \n",
        "else :\n",
        "  print(\"{} is not a leap year.\".format(year))"
      ],
      "metadata": {
        "colab": {
          "base_uri": "https://localhost:8080/"
        },
        "id": "qYstakmbJjFR",
        "outputId": "92fa1345-46d0-4e07-a664-f77ac3d016f7"
      },
      "execution_count": 5,
      "outputs": [
        {
          "output_type": "stream",
          "name": "stdout",
          "text": [
            "Enter a year: 2100\n",
            "2100 is not a leap year.\n"
          ]
        }
      ]
    }
  ]
}