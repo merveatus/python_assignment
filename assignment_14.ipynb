{
 "cells": [
  {
   "cell_type": "code",
   "execution_count": 1,
   "id": "ac65e83e",
   "metadata": {},
   "outputs": [
    {
     "name": "stdout",
     "output_type": "stream",
     "text": [
      "[1, 1, 2, 3, 5, 8, 13, 21, 34, 55]\n"
     ]
    }
   ],
   "source": [
    "# Create a list consisting of Fibonacci numbers from 1 to 55 using control flow statements and range() function.\n",
    "# The desired output is like this:\n",
    "# fibonacci →  [1, 1, 2, 3, 5, 8, 13, 21, 34, 55]\n",
    "\n",
    "a, b = 1, 1\n",
    "list_fib = []\n",
    "while a <= 55:\n",
    "    list_fib.append(a)\n",
    "    a, b = b, a + b\n",
    "print(list_fib)"
   ]
  },
  {
   "cell_type": "code",
   "execution_count": null,
   "id": "d93cd79c",
   "metadata": {},
   "outputs": [],
   "source": []
  }
 ],
 "metadata": {
  "kernelspec": {
   "display_name": "Python 3 (ipykernel)",
   "language": "python",
   "name": "python3"
  },
  "language_info": {
   "codemirror_mode": {
    "name": "ipython",
    "version": 3
   },
   "file_extension": ".py",
   "mimetype": "text/x-python",
   "name": "python",
   "nbconvert_exporter": "python",
   "pygments_lexer": "ipython3",
   "version": "3.9.12"
  }
 },
 "nbformat": 4,
 "nbformat_minor": 5
}
