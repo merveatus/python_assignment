{
 "cells": [
  {
   "cell_type": "markdown",
   "id": "ba74709c",
   "metadata": {},
   "source": [
    "Task : Print the prime numbers which are between 1 to entered limit number (n).\n",
    "\n",
    "You can use a nested for loop.\n",
    "Collect all these numbers into a list\n",
    "The desired output for n=100 :\n",
    "\n",
    "[2, 3, 5, 7, 11, 13, 17, 19, 23, 29, 31, 37, 41, 43, 47, 53, 59,\n",
    "61, 67, 71, 73, 79, 83, 89, 97]\n",
    "\n"
   ]
  },
  {
   "cell_type": "code",
   "execution_count": 17,
   "id": "b3911572",
   "metadata": {},
   "outputs": [
    {
     "name": "stdout",
     "output_type": "stream",
     "text": [
      "[2, 3, 5, 7, 11, 13, 17, 19, 23, 29, 31, 37, 41, 43, 47, 53, 59, 61, 67, 71, 73, 79, 83, 89, 97]\n"
     ]
    }
   ],
   "source": [
    "n = 100\n",
    "\n",
    "def prime(n) :\n",
    "    list_prime = []\n",
    "    for i in range(2, n+1) :\n",
    "        count = 0\n",
    "        for x in range(2, i) :\n",
    "            if not i % x :\n",
    "                count += 1\n",
    "                break\n",
    "        if count == 0 :\n",
    "            list_prime.append(i)\n",
    "    print(list_prime)\n",
    "\n",
    "prime(n)"
   ]
  },
  {
   "cell_type": "code",
   "execution_count": null,
   "id": "4b793415",
   "metadata": {},
   "outputs": [],
   "source": []
  },
  {
   "cell_type": "code",
   "execution_count": null,
   "id": "1a8b998b",
   "metadata": {},
   "outputs": [],
   "source": []
  },
  {
   "cell_type": "code",
   "execution_count": null,
   "id": "dbb26792",
   "metadata": {},
   "outputs": [],
   "source": []
  },
  {
   "cell_type": "code",
   "execution_count": null,
   "id": "f8d66153",
   "metadata": {},
   "outputs": [],
   "source": []
  },
  {
   "cell_type": "code",
   "execution_count": null,
   "id": "1749da95",
   "metadata": {},
   "outputs": [],
   "source": []
  }
 ],
 "metadata": {
  "kernelspec": {
   "display_name": "Python 3 (ipykernel)",
   "language": "python",
   "name": "python3"
  },
  "language_info": {
   "codemirror_mode": {
    "name": "ipython",
    "version": 3
   },
   "file_extension": ".py",
   "mimetype": "text/x-python",
   "name": "python",
   "nbconvert_exporter": "python",
   "pygments_lexer": "ipython3",
   "version": "3.9.12"
  }
 },
 "nbformat": 4,
 "nbformat_minor": 5
}
