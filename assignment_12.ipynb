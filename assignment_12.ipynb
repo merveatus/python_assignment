{
  "nbformat": 4,
  "nbformat_minor": 0,
  "metadata": {
    "colab": {
      "provenance": [],
      "collapsed_sections": []
    },
    "kernelspec": {
      "name": "python3",
      "display_name": "Python 3"
    },
    "language_info": {
      "name": "python"
    }
  },
  "cells": [
    {
      "cell_type": "code",
      "source": [
        "# Task:\n",
        "\n",
        "# Find out if a given number is an \"Armstrong Number\".\n",
        "\n",
        "# An n-digit number that is the sum of the nth powers of its digits is called an n-Armstrong number. Examples :\n",
        "# 371 = 33 + 73 + 13;\n",
        "# 9474 = 94 + 44 + 74 + 44;\n",
        "# 93084 = 95 + 35 + 05 + 85 + 45.\n",
        "\n",
        "# Write a Python program that;\n",
        "# takes a positive integer number from the user,\n",
        "# checks the entered number if it is Armstrong,\n",
        "# consider the negative, float and any entries other than numeric values then display a warning message to the user."
      ],
      "metadata": {
        "id": "VkuQlCcbDeGK"
      },
      "execution_count": null,
      "outputs": []
    },
    {
      "cell_type": "code",
      "source": [
        "while True :\n",
        "  number = input(\"Enter a positive digit number : \")\n",
        "  digits = len(number)\n",
        "  total = 0 \n",
        "  \n",
        "  if not number.isdigit() :\n",
        "    print(number, \"is an invalid entry. Please don't use non-numeric, float, or negative values.\")\n",
        "  \n",
        "  elif int(number) >= 0 :\n",
        "    for i in range(len(number)) :\n",
        "          total += int(number[i]) ** digits\n",
        "  \n",
        "    if total == int(number) :\n",
        "      print(number,\"is an Armstrong number\")\n",
        "      break\n",
        "        \n",
        "    else :\n",
        "      print(number,\"is not an Armstrong number\")\n",
        "      break"
      ],
      "metadata": {
        "colab": {
          "base_uri": "https://localhost:8080/"
        },
        "id": "nxY9M4Ctjjx4",
        "outputId": "dd3d9742-2279-4015-f29b-a767fa324837"
      },
      "execution_count": 9,
      "outputs": [
        {
          "output_type": "stream",
          "name": "stdout",
          "text": [
            "Enter a positive digit number : 347\n",
            "347 is not an Armstrong number\n"
          ]
        }
      ]
    }
  ]
}